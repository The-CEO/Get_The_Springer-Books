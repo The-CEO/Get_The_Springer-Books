{
 "cells": [
  {
   "cell_type": "markdown",
   "metadata": {},
   "source": [
    "#== author == **'Rockefeller'**\n",
    "#== organization: **AIMS Cameroon (African Institute for Mathematical Sciences)**\n",
    "#== website:  www.aims-cameroon.org\n",
    "#== personal website: http://www.rockefeller.mystrikingly.com/ "
   ]
  },
  {
   "cell_type": "code",
   "execution_count": null,
   "metadata": {},
   "outputs": [],
   "source": [
    "import urllib  #this library is to make http request \n",
    "from  urllib import request\n",
    "#simply google about it if you need to isntall those libraries\n",
    "\n",
    "import pandas as pd  #to read the dataframes\n",
    "import numpy as np\n",
    "import requests"
   ]
  },
  {
   "cell_type": "code",
   "execution_count": null,
   "metadata": {},
   "outputs": [],
   "source": [
    "df = pd.read_csv('BooksLinks.csv')\n",
    "df.head()"
   ]
  },
  {
   "cell_type": "code",
   "execution_count": null,
   "metadata": {},
   "outputs": [],
   "source": [
    "def DownloadBooks( first , last):\n",
    "    \"\"\"This function takes the first and last element of the range of books you wish to download and download them\"\"\"\n",
    "    for label in df['index'][first-1: last]:\n",
    "        urllib.request.urlretrieve(df['link'].values[label] , df['Books'].values[label] + '.pdf')       "
   ]
  },
  {
   "cell_type": "code",
   "execution_count": null,
   "metadata": {},
   "outputs": [],
   "source": [
    "def OneBookAtTime(index):\n",
    "    \"enter the index of the book you are interested in\"\n",
    "    urllib.request.urlretrieve(df['link'].values[index -1] , df['Books'].values[index -1] + '.pdf')"
   ]
  },
  {
   "cell_type": "code",
   "execution_count": null,
   "metadata": {},
   "outputs": [],
   "source": []
  },
  {
   "cell_type": "markdown",
   "metadata": {},
   "source": [
    "# ==> To download a range of Books"
   ]
  },
  {
   "cell_type": "code",
   "execution_count": null,
   "metadata": {},
   "outputs": [],
   "source": [
    "#specify the start index and end index of the range of Books. \n",
    "#Look at the first column  of the PDF file to choose your range\n",
    "\n",
    "DownloadBooks(first=  ,last=  )"
   ]
  },
  {
   "cell_type": "markdown",
   "metadata": {},
   "source": [
    " "
   ]
  },
  {
   "cell_type": "markdown",
   "metadata": {},
   "source": [
    "# ==> To download one Book at the Time"
   ]
  },
  {
   "cell_type": "code",
   "execution_count": null,
   "metadata": {},
   "outputs": [],
   "source": [
    "#specify the inde of the Book\n",
    "#Look at the first column  of the PDF file to choose the index of the book suitable to you\n",
    " \n",
    "OneBookAtTime(index=  )"
   ]
  },
  {
   "cell_type": "code",
   "execution_count": null,
   "metadata": {},
   "outputs": [],
   "source": []
  }
 ],
 "metadata": {
  "kernelspec": {
   "display_name": "Python 3",
   "language": "python",
   "name": "python3"
  },
  "language_info": {
   "codemirror_mode": {
    "name": "ipython",
    "version": 3
   },
   "file_extension": ".py",
   "mimetype": "text/x-python",
   "name": "python",
   "nbconvert_exporter": "python",
   "pygments_lexer": "ipython3",
   "version": "3.6.8"
  }
 },
 "nbformat": 4,
 "nbformat_minor": 2
}
