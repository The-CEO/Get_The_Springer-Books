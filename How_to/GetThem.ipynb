{
 "cells": [
  {
   "cell_type": "code",
   "execution_count": 2,
   "metadata": {},
   "outputs": [],
   "source": [
    "\n",
    "\n",
    "import urllib  #this library is to make http request \n",
    "from  urllib import request\n",
    "#simply google about it if you need to isntall those libraries\n",
    "\n",
    "import pandas as pd  #to read the dataframes\n",
    "import numpy as np\n",
    "import requests"
   ]
  },
  {
   "cell_type": "code",
   "execution_count": 3,
   "metadata": {},
   "outputs": [
    {
     "data": {
      "text/html": [
       "<div>\n",
       "<style scoped>\n",
       "    .dataframe tbody tr th:only-of-type {\n",
       "        vertical-align: middle;\n",
       "    }\n",
       "\n",
       "    .dataframe tbody tr th {\n",
       "        vertical-align: top;\n",
       "    }\n",
       "\n",
       "    .dataframe thead th {\n",
       "        text-align: right;\n",
       "    }\n",
       "</style>\n",
       "<table border=\"1\" class=\"dataframe\">\n",
       "  <thead>\n",
       "    <tr style=\"text-align: right;\">\n",
       "      <th></th>\n",
       "      <th>index</th>\n",
       "      <th>Books</th>\n",
       "      <th>link</th>\n",
       "    </tr>\n",
       "  </thead>\n",
       "  <tbody>\n",
       "    <tr>\n",
       "      <th>0</th>\n",
       "      <td>1</td>\n",
       "      <td>Fundamentals of Power Electronics</td>\n",
       "      <td>https://link.springer.com/content/pdf/10.1007%...</td>\n",
       "    </tr>\n",
       "    <tr>\n",
       "      <th>1</th>\n",
       "      <td>2</td>\n",
       "      <td>Handbook of the Life Course</td>\n",
       "      <td>https://link.springer.com/content/pdf/10.1007%...</td>\n",
       "    </tr>\n",
       "    <tr>\n",
       "      <th>2</th>\n",
       "      <td>3</td>\n",
       "      <td>All of Statistics</td>\n",
       "      <td>https://link.springer.com/content/pdf/10.1007%...</td>\n",
       "    </tr>\n",
       "    <tr>\n",
       "      <th>3</th>\n",
       "      <td>4</td>\n",
       "      <td>Social Anxiety and Social Phobia in Youth</td>\n",
       "      <td>https://link.springer.com/content/pdf/10.1007%...</td>\n",
       "    </tr>\n",
       "    <tr>\n",
       "      <th>4</th>\n",
       "      <td>5</td>\n",
       "      <td>Discrete Mathematics</td>\n",
       "      <td>https://link.springer.com/content/pdf/10.1007%...</td>\n",
       "    </tr>\n",
       "  </tbody>\n",
       "</table>\n",
       "</div>"
      ],
      "text/plain": [
       "   index                                      Books  \\\n",
       "0      1          Fundamentals of Power Electronics   \n",
       "1      2                Handbook of the Life Course   \n",
       "2      3                          All of Statistics   \n",
       "3      4  Social Anxiety and Social Phobia in Youth   \n",
       "4      5                       Discrete Mathematics   \n",
       "\n",
       "                                                link  \n",
       "0  https://link.springer.com/content/pdf/10.1007%...  \n",
       "1  https://link.springer.com/content/pdf/10.1007%...  \n",
       "2  https://link.springer.com/content/pdf/10.1007%...  \n",
       "3  https://link.springer.com/content/pdf/10.1007%...  \n",
       "4  https://link.springer.com/content/pdf/10.1007%...  "
      ]
     },
     "execution_count": 3,
     "metadata": {},
     "output_type": "execute_result"
    }
   ],
   "source": [
    "df = pd.read_csv('BooksLinks.csv')\n",
    "df.head()"
   ]
  },
  {
   "cell_type": "code",
   "execution_count": 4,
   "metadata": {},
   "outputs": [],
   "source": [
    "def DownloadBooks( first , last):\n",
    "    \"\"\"This function takes the first and last element of the range of books you wish to download and download them\"\"\"\n",
    "    for label in df['index'][first-1: last]:\n",
    "        urllib.request.urlretrieve(df['link'].values[label] , df['Books'].values[label] + '.pdf')       "
   ]
  },
  {
   "cell_type": "code",
   "execution_count": 8,
   "metadata": {},
   "outputs": [],
   "source": [
    "DownloadBooks(245, 246)"
   ]
  },
  {
   "cell_type": "code",
   "execution_count": 7,
   "metadata": {},
   "outputs": [
    {
     "name": "stdout",
     "output_type": "stream",
     "text": [
      "245\n",
      "246\n"
     ]
    }
   ],
   "source": [
    "for i in df['index'][245-1:246]:\n",
    "    print (i)"
   ]
  },
  {
   "cell_type": "code",
   "execution_count": null,
   "metadata": {},
   "outputs": [],
   "source": []
  }
 ],
 "metadata": {
  "kernelspec": {
   "display_name": "Python 3",
   "language": "python",
   "name": "python3"
  },
  "language_info": {
   "codemirror_mode": {
    "name": "ipython",
    "version": 3
   },
   "file_extension": ".py",
   "mimetype": "text/x-python",
   "name": "python",
   "nbconvert_exporter": "python",
   "pygments_lexer": "ipython3",
   "version": "3.6.8"
  }
 },
 "nbformat": 4,
 "nbformat_minor": 2
}
